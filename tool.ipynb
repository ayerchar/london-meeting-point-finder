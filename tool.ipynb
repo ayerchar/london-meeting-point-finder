{
 "cells": [
  {
   "cell_type": "markdown",
   "metadata": {},
   "source": [
    "# Where Should We Meet?\n",
    "\n",
    "The purpose of this project is to determine where would be the best place to meet my friends based on time spent on London public transport/walking rather than distance.\n",
    "\n",
    "Proposed method:\n",
    "1. Load data \n",
    "- TfL Unified API (for real-time public transport data), \n",
    "- London Public Transport Accessibility Levels (data on how accessible different areas are via public transport),\n",
    "- Geospatial data such as OpenStreetMap, London Datastore (mapping coordinates, locations of points of interest)\n",
    "\n",
    "2. Model the transport network as a graph\n",
    "- Nodes as stations, stops, key intersections\n",
    "- Edges represent public transport routes\n",
    "\n",
    "3. Calculate the shortest travel time\n",
    "- Dijkstra's Algorithm\n",
    "\n",
    "4. Optimise for the 'centre'\n",
    "- Minimise total travel time (sum)\n",
    "- Minimise maximum travel time (fairness)\n",
    "- Algorithm options: brute force vs linear programming for optimisation (SciPy/PuLP) vs A* search\n",
    "\n",
    "5. Optional extras!\n",
    "- Real world filters e.g. cafes/parks etc\n",
    "- Other contraints e.g. budget, venue ratings, outdoor/indoor preference\n",
    "- Dynamic updates for travel delays\n",
    "- Environmental impact"
   ]
  },
  {
   "cell_type": "code",
   "execution_count": null,
   "metadata": {
    "vscode": {
     "languageId": "plaintext"
    }
   },
   "outputs": [],
   "source": []
  },
  {
   "cell_type": "markdown",
   "metadata": {},
   "source": []
  }
 ],
 "metadata": {
  "language_info": {
   "name": "python"
  }
 },
 "nbformat": 4,
 "nbformat_minor": 2
}
